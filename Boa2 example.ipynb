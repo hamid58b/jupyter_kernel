{
 "cells": [
  {
   "cell_type": "markdown",
   "metadata": {},
   "source": [
    "## This example is a Boa program"
   ]
  },
  {
   "cell_type": "code",
   "execution_count": null,
   "metadata": {
    "collapsed": false
   },
   "outputs": [],
   "source": [
    "p: Project = input;\n",
    "counts: output top(10) of string weight int;\n",
    "\n",
    "foreach (i: int; def(p.programming_languages[i]))\n",
    "\tcounts << p.programming_languages[i] weight 1;"
   ]
  },
  {
   "cell_type": "markdown",
   "metadata": {},
   "source": [
    "## The following example has a compilation error."
   ]
  },
  {
   "cell_type": "code",
   "execution_count": null,
   "metadata": {
    "collapsed": false
   },
   "outputs": [],
   "source": [
    "p: Project = input;\n",
    "counts: output top(10) of string weight int;\n",
    "\n",
    "foreach (i: int; def(p.programming_languages[i]))\n",
    "\tcounts << p.programming_languages[] weight 1;"
   ]
  },
  {
   "cell_type": "code",
   "execution_count": 1,
   "metadata": {
    "collapsed": false
   },
   "outputs": [
    {
     "name": "stdout",
     "output_type": "stream",
     "text": [
      "Boa NoteBook Demo.ipynb\techokernel.py\t\tprogram\r\n",
      "Boa2 example.ipynb\techokernel.zip\t\ttemp.zip\r\n",
      "Untitled.ipynb\t\tgeneratedsrc\t\ttemplates\r\n",
      "data\t\t\tkernel.json\t\ttest.boa\r\n",
      "dist\t\t\tmsrdata.zip\r\n",
      "ds.jar\t\t\toutput\r\n"
     ]
    }
   ],
   "source": [
    "ls\n"
   ]
  },
  {
   "cell_type": "code",
   "execution_count": 2,
   "metadata": {
    "collapsed": false
   },
   "outputs": [
    {
     "name": "stdout",
     "output_type": "stream",
     "text": [
      "/Users/hamidbagheri/Documents/DS/jupyter/echokernel\r\n"
     ]
    }
   ],
   "source": [
    "pwd"
   ]
  },
  {
   "cell_type": "code",
   "execution_count": 1,
   "metadata": {
    "collapsed": false
   },
   "outputs": [
    {
     "name": "stdout",
     "output_type": "stream",
     "text": [
      "counts[] = https://api.github.com/repos/apache/hadoop/languages, 1.0\n",
      "counts[] = https://api.github.com/repos/boalang/compiler/languages, 1.0\n",
      "counts[] = https://api.github.com/repos/apache/hadoop/languages, 3.0\n",
      "counts[] = https://api.github.com/repos/boalang/compiler/languages, 1.0\n",
      "counts[] = https://api.github.com/repos/apache/hadoop/languages, 20.0\n",
      "counts[] = https://api.github.com/repos/boalang/compiler/languages, 1.0\n",
      "counts[] = https://api.github.com/repos/apache/hadoop/languages, 8.0\n",
      "counts[] = https://api.github.com/repos/boalang/compiler/languages, 1.0\n",
      "counts[] = https://api.github.com/repos/apache/hadoop/languages, 6.0\n",
      "counts[] = https://api.github.com/repos/boalang/compiler/languages, 4.0\n",
      "\n"
     ]
    }
   ],
   "source": [
    "with open(\"/Users/hamidbagheri/Documents/DS/MSR/output1/part-r-00000\",\"r\") as f:\n",
    "            content=f.read()\n",
    "print(content)"
   ]
  },
  {
   "cell_type": "code",
   "execution_count": 2,
   "metadata": {
    "collapsed": false
   },
   "outputs": [
    {
     "data": {
      "text/plain": [
       "10.0"
      ]
     },
     "execution_count": 2,
     "metadata": {},
     "output_type": "execute_result"
    }
   ],
   "source": [
    "from numpy import sqrt\n",
    "x = sqrt(100)\n",
    "x"
   ]
  },
  {
   "cell_type": "markdown",
   "metadata": {},
   "source": [
    "## This example is written in python"
   ]
  },
  {
   "cell_type": "code",
   "execution_count": 3,
   "metadata": {
    "collapsed": false
   },
   "outputs": [
    {
     "data": {
      "image/png": "[encoded data removed]",
      "text/plain": [
       "<matplotlib.figure.Figure at 0x10d497410>"
      ]
     },
     "metadata": {},
     "output_type": "display_data"
    }
   ],
   "source": [
    "from numpy.random import normal, uniform, exponential, randint\n",
    "\n",
    "import matplotlib.pyplot as plt\n",
    "%matplotlib inline\n",
    "\n",
    "data = normal(size=10000)\n",
    "ax = plt.hist(data)"
   ]
  },
  {
   "cell_type": "code",
   "execution_count": null,
   "metadata": {
    "collapsed": true
   },
   "outputs": [],
   "source": [
    "%p"
   ]
  }
 ],
 "metadata": {
  "kernelspec": {
   "display_name": "Boa",
   "language": "",
   "name": "echokernel"
  },
  "language_info": {
   "mimetype": "text/plain"
  }
 },
 "nbformat": 4,
 "nbformat_minor": 1
}
