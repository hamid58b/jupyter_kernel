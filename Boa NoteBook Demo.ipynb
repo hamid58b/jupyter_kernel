{
 "cells": [
  {
   "cell_type": "markdown",
   "metadata": {},
   "source": [
    "## Following example is an example of Boa script:"
   ]
  },
  {
   "cell_type": "code",
   "execution_count": 3,
   "metadata": {
    "collapsed": false,
    "scrolled": true
   },
   "outputs": [
    {
     "name": "stdout",
     "output_type": "stream",
     "text": [
      "counts[] = https://api.github.com/repos/apache/hadoop/languages, 1.0\n",
      "counts[] = https://api.github.com/repos/boalang/compiler/languages, 1.0\n"
     ]
    }
   ],
   "source": [
    "p: Project = input;\n",
    "counts: output top(10) of string weight int;\n",
    "githu\n",
    "foreach (i: int; def(p.programming_languages[i]))\n",
    "\tcounts << p.programming_languages[i] weight 1;"
   ]
  },
  {
   "cell_type": "markdown",
   "metadata": {},
   "source": [
    "## In the following example there is a compilation error on Boa program."
   ]
  },
  {
   "cell_type": "code",
   "execution_count": 4,
   "metadata": {
    "collapsed": false
   },
   "outputs": [
    {
     "name": "stdout",
     "output_type": "stream",
     "text": [
      "test.boa: compilation failed: Encountered parser error \"[@40,151:151=']',<41>,5:35]\" at line 5, column 35. no viable alternative at input 'counts<<p.programming_languages[]'\n",
      "    counts << p.programming_languages[] weight 1;\n",
      "                                      ^\n",
      "\tat org.antlr.v4.runtime.atn.ParserATNSimulator.noViableAlt(ParserATNSimulator.java:1894)\n",
      "\tat org.antlr.v4.runtime.atn.ParserATNSimulator.execATN(ParserATNSimulator.java:498)\n",
      "\tat org.antlr.v4.runtime.atn.ParserATNSimulator.adaptivePredict(ParserATNSimulator.java:424)\n",
      "\tat boa.parser.BoaParser.statement(BoaParser.java:1919)\n",
      "\tat boa.parser.BoaParser.programStatement(BoaParser.java:333)\n",
      "\tat boa.parser.BoaParser.foreachStatement(BoaParser.java:3308)\n",
      "\tat boa.parser.BoaParser.statement(BoaParser.java:2004)\n",
      "\tat boa.parser.BoaParser.programStatement(BoaParser.java:333)\n",
      "\tat boa.parser.BoaParser.program(BoaParser.java:269)\n",
      "\tat boa.parser.BoaParser.start(BoaParser.java:208)\n",
      "\tat boa.compiler.BoaCompiler.parse(BoaCompiler.java:400)\n",
      "\tat boa.compiler.BoaCompiler.compile(BoaCompiler.java:681)\n",
      "\tat boa.evaluator.BoaEvaluator.evaluate(BoaEvaluator.java:86)\n",
      "\tat boa.dsi.evaluator.EvaluationEngine.evaluate(EvaluationEngine.java:16)\n",
      "\tat boa.DSMaster.main(DSMaster.java:109)\n",
      "test.boa: compilation failed: Encountered parser error \"[@42,160:160='1',<71>,5:44]\" at line 5, column 44. keyword 'weight' can not be used as an identifier\n",
      "    counts << p.programming_languages[] weight 1;\n",
      "                                               ^\n",
      "\tat unknown stack\n",
      "test.boa: compilation failed: Encountered parser error \"[@42,160:160='1',<71>,5:44]\" at line 5, column 44. error: ';' expected\n",
      "    counts << p.programming_languages[] weight 1;\n",
      "                                               ^\n",
      "\tat unknown stack\n",
      "Exception in thread \"main\" java.lang.RuntimeException: no files compiled without error\n",
      "\tat boa.compiler.BoaCompiler.compile(BoaCompiler.java:782)\n",
      "\tat boa.evaluator.BoaEvaluator.evaluate(BoaEvaluator.java:86)\n",
      "\tat boa.dsi.evaluator.EvaluationEngine.evaluate(EvaluationEngine.java:16)\n",
      "\tat boa.DSMaster.main(DSMaster.java:109)\n"
     ]
    }
   ],
   "source": [
    "p: Project = input;\n",
    "counts: output top(10) of string weight int;\n",
    "\n",
    "foreach (i: int; def(p.programming_languages[i]))\n",
    "\tcounts << p.programming_languages[] weight 1;"
   ]
  },
  {
   "cell_type": "markdown",
   "metadata": {},
   "source": [
    "## Another program in Boa (How many projects created each year?)"
   ]
  },
  {
   "cell_type": "code",
   "execution_count": 5,
   "metadata": {
    "collapsed": false
   },
   "outputs": [
    {
     "name": "stdout",
     "output_type": "stream",
     "text": [
      "counts[1969] = 2\n"
     ]
    }
   ],
   "source": [
    "# How many projects created each year?\n",
    "p: Project = input;\n",
    "counts: output sum[int] of int;\n",
    "\n",
    "counts[yearof(p.created_date)] << 1;"
   ]
  },
  {
   "cell_type": "markdown",
   "metadata": {},
   "source": [
    "## How many committers are in each project?\n"
   ]
  },
  {
   "cell_type": "code",
   "execution_count": 5,
   "metadata": {
    "collapsed": false
   },
   "outputs": [
    {
     "name": "stdout",
     "output_type": "stream",
     "text": [
      "counts[23418517] = 168\n",
      "counts[45633219] = 14\n"
     ]
    }
   ],
   "source": [
    "# How many committers are in each project?\n",
    "p: Project = input;\n",
    "counts: output sum[string] of int;\n",
    "\n",
    "committers: map[string] of bool;\n",
    "\n",
    "visit(p, visitor {\n",
    "\tbefore node: Revision ->\n",
    "\t\tif (!haskey(committers, node.committer.username)) {\n",
    "\t\t\tcommitters[node.committer.username] = true;\n",
    "\t\t\tcounts[p.id] << 1;\n",
    "\t\t}\n",
    "});"
   ]
  },
  {
   "cell_type": "code",
   "execution_count": null,
   "metadata": {
    "collapsed": true
   },
   "outputs": [],
   "source": []
  }
 ],
 "metadata": {
  "kernelspec": {
   "display_name": "Boa",
   "language": "",
   "name": "echokernel"
  },
  "language_info": {
   "mimetype": "text/plain"
  }
 },
 "nbformat": 4,
 "nbformat_minor": 1
}
